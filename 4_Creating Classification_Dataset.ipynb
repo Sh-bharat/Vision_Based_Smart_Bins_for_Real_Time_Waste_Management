{
 "cells": [
  {
   "cell_type": "raw",
   "id": "4560a637-e3b0-41a3-a882-16f8b86dc22f",
   "metadata": {
    "id": "4560a637-e3b0-41a3-a882-16f8b86dc22f"
   },
   "source": [
    "### Capturing Dustbin Images For Creating Live Dataset"
   ]
  },
  {
   "cell_type": "code",
   "execution_count": 1,
   "id": "ce087529",
   "metadata": {
    "id": "ce087529",
    "outputId": "79df5785-1b9d-47cb-c079-f64d4ac2422e"
   },
   "outputs": [
    {
     "name": "stdout",
     "output_type": "stream",
     "text": [
      "Not Found : Creating Dataset Folder!\n"
     ]
    }
   ],
   "source": [
    "## Importing Libraries\n",
    "import cv2\n",
    "import os\n",
    "\n",
    "dataset_path=os.getcwd()+\"\\\\Dustbin_Classification_Dataset\"\n",
    "if not os.path.isdir(dataset_path):\n",
    "    os.mkdir(dataset_path)\n",
    "    print(\"Not Found : Creating Dataset Folder!\")\n",
    "else:\n",
    "    print(\"Found : Dataset Folder Already Exist!\")\n"
   ]
  },
  {
   "cell_type": "code",
   "execution_count": 5,
   "id": "3fe8254f",
   "metadata": {
    "id": "3fe8254f"
   },
   "outputs": [
    {
     "name": "stdout",
     "output_type": "stream",
     "text": [
      "in Dataset Directory, Not_Full Folder Found : Uploading Files!\n"
     ]
    }
   ],
   "source": [
    "## Setting Parameters\n",
    "status=\"Not_Full\" #Status of dustbin\n",
    "new_shape=(640,480)\n",
    "\n",
    "# Capturing Live Images\n",
    "vid = cv2.VideoCapture(1)\n",
    "\n",
    "dir_path=os.getcwd()+\"\\\\Dustbin_Classification_Dataset\\\\\"+status\n",
    "\n",
    "\n",
    "if not os.path.isdir(dir_path):\n",
    "    os.mkdir(dir_path)\n",
    "    print(\"in Dataset Directory, \"+status +\" Folder Not Found : Creating Folder!\")\n",
    "else:\n",
    "    print(\"in Dataset Directory, \"+status +\" Folder Found : Uploading Files!\")\n",
    "i=len(os.listdir(dir_path))\n",
    "\n",
    "\n",
    "# Capturing every frame\n",
    "while(True):\n",
    "    ret, frame = vid.read()\n",
    "    cv2.imshow('frame', frame)\n",
    "\n",
    "    c = cv2.waitKey(1)\n",
    "    if c == 27: # For Esc character\n",
    "        break\n",
    "    elif c == 32: # For Space Key\n",
    "        file_name=dir_path+\"\\\\\"+str(i)+\".png\"\n",
    "        image = cv2.resize(frame, new_shape)\n",
    "        cv2.imwrite(file_name,image)\n",
    "        i=i+1\n",
    "\n",
    "vid.release()\n",
    "cv2.destroyAllWindows()"
   ]
  },
  {
   "cell_type": "code",
   "execution_count": 6,
   "id": "f890aaca",
   "metadata": {
    "id": "f890aaca",
    "outputId": "73339f9e-a3f8-4b00-898d-cf417cbb258a"
   },
   "outputs": [
    {
     "name": "stdout",
     "output_type": "stream",
     "text": [
      "in Dataset Directory, Full Folder Not Found : Creating Folder!\n"
     ]
    }
   ],
   "source": [
    "## Setting Parameters\n",
    "status=\"Full\" #Status of dustbin\n",
    "new_shape=(640,480)\n",
    "\n",
    "# Capturing Live Images\n",
    "vid = cv2.VideoCapture(1)\n",
    "\n",
    "dir_path=os.getcwd()+\"\\\\Dustbin_Classification_Dataset\\\\\"+status\n",
    "\n",
    "\n",
    "if not os.path.isdir(dir_path):\n",
    "    os.mkdir(dir_path)\n",
    "    print(\"in Dataset Directory, \"+status +\" Folder Not Found : Creating Folder!\")\n",
    "else:\n",
    "    print(\"in Dataset Directory, \"+status +\" Folder Found : Uploading Files!\")\n",
    "i=len(os.listdir(dir_path))\n",
    "\n",
    "\n",
    "# Capturing every frame\n",
    "while(True):\n",
    "    ret, frame = vid.read()\n",
    "    cv2.imshow('frame', frame)\n",
    "\n",
    "    c = cv2.waitKey(1)\n",
    "    if c == 27: # For Esc character\n",
    "        break\n",
    "    elif c == 32: # For Space Key\n",
    "        file_name=dir_path+\"\\\\\"+str(i)+\".png\"\n",
    "        image = cv2.resize(frame, new_shape)\n",
    "        cv2.imwrite(file_name,image)\n",
    "        i=i+1\n",
    "\n",
    "vid.release()\n",
    "cv2.destroyAllWindows()"
   ]
  }
 ],
 "metadata": {
  "colab": {
   "provenance": []
  },
  "kernelspec": {
   "display_name": "Python 3 (ipykernel)",
   "language": "python",
   "name": "python3"
  },
  "language_info": {
   "codemirror_mode": {
    "name": "ipython",
    "version": 3
   },
   "file_extension": ".py",
   "mimetype": "text/x-python",
   "name": "python",
   "nbconvert_exporter": "python",
   "pygments_lexer": "ipython3",
   "version": "3.11.7"
  }
 },
 "nbformat": 4,
 "nbformat_minor": 5
}
